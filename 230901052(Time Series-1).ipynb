{
 "cells": [
  {
   "cell_type": "code",
   "execution_count": 4,
   "id": "5bc4832c-bb77-49c5-b13b-3a9a340036be",
   "metadata": {},
   "outputs": [
    {
     "name": "stdout",
     "output_type": "stream",
     "text": [
      "today now function: 2025-04-11 10:38:43.883171\n"
     ]
    }
   ],
   "source": [
    "import datetime\n",
    "a=datetime.datetime.now()\n",
    "print(\"today now function:\",a)"
   ]
  },
  {
   "cell_type": "code",
   "execution_count": 6,
   "id": "34bc4ec8-7e1f-4f9c-a1dd-795049bc76a8",
   "metadata": {},
   "outputs": [
    {
     "name": "stdout",
     "output_type": "stream",
     "text": [
      "today: 2025-04-11 10:39:54.501494\n"
     ]
    }
   ],
   "source": [
    "today=datetime.datetime.today()\n",
    "print(\"today:\",today)"
   ]
  },
  {
   "cell_type": "code",
   "execution_count": 8,
   "id": "259863d4-ccb6-4238-b475-32522cd0c705",
   "metadata": {},
   "outputs": [
    {
     "name": "stdout",
     "output_type": "stream",
     "text": [
      "tomorrow: 2025-04-14 10:39:54.501494\n"
     ]
    }
   ],
   "source": [
    "tomorrow=today+datetime.timedelta(days=3)\n",
    "print(\"tomorrow:\",tomorrow)"
   ]
  },
  {
   "cell_type": "code",
   "execution_count": 12,
   "id": "8a4f6ddb-e273-4d33-a7f6-c3ed11de11ae",
   "metadata": {},
   "outputs": [
    {
     "name": "stdout",
     "output_type": "stream",
     "text": [
      "yesterday: 2025-04-09 10:39:54.501494\n"
     ]
    }
   ],
   "source": [
    "yesterday=today-datetime.timedelta(days=2)\n",
    "print(\"yesterday:\",yesterday)"
   ]
  },
  {
   "cell_type": "code",
   "execution_count": 20,
   "id": "bbba99f7-da6e-415f-bcbf-b49e7be4d196",
   "metadata": {},
   "outputs": [
    {
     "name": "stdout",
     "output_type": "stream",
     "text": [
      "date format [2025,4,10,23,10,25,404040): 2025-04-10 23:10:25.404040\n"
     ]
    }
   ],
   "source": [
    "a=datetime.datetime.now()\n",
    "b=datetime.datetime(2025,4,10,23,10,25,404040)\n",
    "print(\"date format [2025,4,10,23,10,25,404040):\",b)"
   ]
  },
  {
   "cell_type": "code",
   "execution_count": 22,
   "id": "3c2e0b4f-f471-4054-9eb6-527a180b0e48",
   "metadata": {},
   "outputs": [
    {
     "name": "stdout",
     "output_type": "stream",
     "text": [
      "Replacing date 2025-04-11 2025-04-15\n"
     ]
    }
   ],
   "source": [
    "from datetime import date\n",
    "d=date(2025,4,11)\n",
    "print(\"Replacing date\",d,d.replace(day=15))"
   ]
  },
  {
   "cell_type": "code",
   "execution_count": 24,
   "id": "9cf2b926-8c42-47de-a176-f44b20a640fe",
   "metadata": {},
   "outputs": [
    {
     "name": "stdout",
     "output_type": "stream",
     "text": [
      "Day and Month: 2004-04-17 Sat Apr 17 00:00:00 2004\n"
     ]
    }
   ],
   "source": [
    "t=date(2004,4,17)\n",
    "d=date(2004,4,17).ctime()\n",
    "print(\"Day and Month:\",t,d)\n"
   ]
  },
  {
   "cell_type": "code",
   "execution_count": 26,
   "id": "3f244af9-9721-43b2-ac3a-503b8abe5ace",
   "metadata": {},
   "outputs": [
    {
     "name": "stdout",
     "output_type": "stream",
     "text": [
      "Today: 2025-04-11\n",
      "Current year: 2025\n",
      "Current month: 4\n",
      "Current day: 11\n"
     ]
    }
   ],
   "source": [
    "today=date.today()\n",
    "print(\"Today:\",today)\n",
    "print(\"Current year:\", today.year)\n",
    "print(\"Current month:\", today.month)\n",
    "print(\"Current day:\",today.day)"
   ]
  },
  {
   "cell_type": "code",
   "execution_count": null,
   "id": "6dafa770-dd83-4bda-b1c7-92be91c9ba68",
   "metadata": {},
   "outputs": [],
   "source": []
  }
 ],
 "metadata": {
  "kernelspec": {
   "display_name": "Python 3 (ipykernel)",
   "language": "python",
   "name": "python3"
  },
  "language_info": {
   "codemirror_mode": {
    "name": "ipython",
    "version": 3
   },
   "file_extension": ".py",
   "mimetype": "text/x-python",
   "name": "python",
   "nbconvert_exporter": "python",
   "pygments_lexer": "ipython3",
   "version": "3.12.7"
  }
 },
 "nbformat": 4,
 "nbformat_minor": 5
}
