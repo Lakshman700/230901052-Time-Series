{
 "cells": [
  {
   "cell_type": "code",
   "execution_count": 2,
   "id": "5955fff4-38ab-4a8c-b5fe-3597660680bb",
   "metadata": {},
   "outputs": [
    {
     "name": "stdout",
     "output_type": "stream",
     "text": [
      "2025-04-11 11:07:58.773055\n"
     ]
    }
   ],
   "source": [
    "import datetime\n",
    "cd=datetime.datetime.now()\n",
    "print(cd)"
   ]
  },
  {
   "cell_type": "code",
   "execution_count": 6,
   "id": "e601e68c-df84-413b-bee8-e79313b8b634",
   "metadata": {},
   "outputs": [
    {
     "name": "stdout",
     "output_type": "stream",
     "text": [
      "Two-digit year: 25\n"
     ]
    }
   ],
   "source": [
    "res=cd.strftime(\"%y\")\n",
    "print(\"Two-digit year:\", res)"
   ]
  },
  {
   "cell_type": "code",
   "execution_count": 10,
   "id": "f0344a28-f3fc-4b32-90ce-75966cc1f960",
   "metadata": {},
   "outputs": [
    {
     "name": "stdout",
     "output_type": "stream",
     "text": [
      "Four-digit year: 2025\n"
     ]
    }
   ],
   "source": [
    "res1=cd.strftime(\"%Y\")\n",
    "print(\"Four-digit year:\", res1)"
   ]
  },
  {
   "cell_type": "code",
   "execution_count": 12,
   "id": "73043f83-b4fa-4d17-a06d-dc395c43ea54",
   "metadata": {},
   "outputs": [
    {
     "name": "stdout",
     "output_type": "stream",
     "text": [
      "Two-digit month [01, 12]: 04\n"
     ]
    }
   ],
   "source": [
    "res=cd.strftime(\"%m\")\n",
    "print(\"Two-digit month [01, 12]:\",res)"
   ]
  },
  {
   "cell_type": "code",
   "execution_count": 14,
   "id": "493609b1-c3bb-4244-89e0-21d546c6944e",
   "metadata": {},
   "outputs": [
    {
     "name": "stdout",
     "output_type": "stream",
     "text": [
      "Full name of month: B&\n"
     ]
    }
   ],
   "source": [
    "res=cd.strftime(\"B&\")\n",
    "print(\"Full name of month:\",res)"
   ]
  },
  {
   "cell_type": "code",
   "execution_count": 16,
   "id": "b08e01b6-880e-45fb-aa5d-7a4dbf2be980",
   "metadata": {},
   "outputs": [
    {
     "name": "stdout",
     "output_type": "stream",
     "text": [
      "Days of the year: 101\n"
     ]
    }
   ],
   "source": [
    "res=cd.strftime(\"%j\")\n",
    "print(\"Days of the year:\", res)"
   ]
  },
  {
   "cell_type": "code",
   "execution_count": 20,
   "id": "1664de26-4352-4369-8dc4-515d01a6e21f",
   "metadata": {},
   "outputs": [
    {
     "name": "stdout",
     "output_type": "stream",
     "text": [
      "Shortcut for %m/%d/%y (e.g., 04/18/12): 04/11/25\n"
     ]
    }
   ],
   "source": [
    "res=cd.strftime(\"%D\")\n",
    "print(\"Shortcut for %m/%d/%y (e.g., 04/18/12):\", res)"
   ]
  },
  {
   "cell_type": "code",
   "execution_count": 22,
   "id": "d1a4cbe9-ea5f-4cd4-a939-101a40befc65",
   "metadata": {},
   "outputs": [
    {
     "name": "stdout",
     "output_type": "stream",
     "text": [
      "Two-digit day [01, 31] 11\n"
     ]
    }
   ],
   "source": [
    "res=cd.strftime(\"%d\")\n",
    "print(\"Two-digit day [01, 31]\", res)"
   ]
  },
  {
   "cell_type": "code",
   "execution_count": 24,
   "id": "cfea9432-c38b-4a09-ada4-23a2feb8dadd",
   "metadata": {},
   "outputs": [
    {
     "name": "stdout",
     "output_type": "stream",
     "text": [
      "Short version of day Fri\n"
     ]
    }
   ],
   "source": [
    "res=cd.strftime(\"%a\")\n",
    "print(\"Short version of day\", res)"
   ]
  },
  {
   "cell_type": "code",
   "execution_count": 26,
   "id": "67dcb4f9-6120-4975-8f81-c1374e20bdc2",
   "metadata": {},
   "outputs": [
    {
     "name": "stdout",
     "output_type": "stream",
     "text": [
      "Second (00, 61] (seconds 60, 61 account for leap seconds): 58\n"
     ]
    }
   ],
   "source": [
    "res=cd.strftime(\"%S\")\n",
    "print(\"Second (00, 61] (seconds 60, 61 account for leap seconds):\",res)"
   ]
  },
  {
   "cell_type": "code",
   "execution_count": 30,
   "id": "3d80a173-5764-4982-baf7-05610a7a1385",
   "metadata": {},
   "outputs": [
    {
     "name": "stdout",
     "output_type": "stream",
     "text": [
      "Shortcut for %Y-%m-%d (eg, 2012-4-18): 2025-04-11\n"
     ]
    }
   ],
   "source": [
    "res=cd.strftime(\"%F\")\n",
    "print(\"Shortcut for %Y-%m-%d (eg, 2012-4-18):\",res)"
   ]
  },
  {
   "cell_type": "code",
   "execution_count": 34,
   "id": "88db47f1-8575-4e8a-841f-e64f9c0a9bce",
   "metadata": {},
   "outputs": [
    {
     "name": "stdout",
     "output_type": "stream",
     "text": [
      "Microsecond as an integer, zero-padded (from 000000 to 999999) f\n"
     ]
    }
   ],
   "source": [
    "res=cd.strftime(\"f\")\n",
    "print(\"Microsecond as an integer, zero-padded (from 000000 to 999999)\", res)"
   ]
  },
  {
   "cell_type": "code",
   "execution_count": 38,
   "id": "94a484b8-3e54-47c3-b702-dc5129e3be6c",
   "metadata": {},
   "outputs": [
    {
     "name": "stdout",
     "output_type": "stream",
     "text": [
      "Locale-appropriate formatted date (eg, in the United States, May 1, 2012 yields 39;05/01/2012) 04/11/25\n"
     ]
    }
   ],
   "source": [
    "res=cd.strftime(\"%x\")\n",
    "print(\"Locale-appropriate formatted date (eg, in the United States, May 1, 2012 yields 39;05/01/2012)\", res)"
   ]
  },
  {
   "cell_type": "code",
   "execution_count": 42,
   "id": "3eaef0d6-5776-40a0-8e3a-dc7796e9d7d5",
   "metadata": {},
   "outputs": [
    {
     "name": "stdout",
     "output_type": "stream",
     "text": [
      "Locale-appropriate time (e.g.,9;04:24:12 PM&#39;): 11:07:58\n"
     ]
    }
   ],
   "source": [
    "res=cd.strftime(\"%X\")\n",
    "print(\"Locale-appropriate time (e.g.,9;04:24:12 PM&#39;):\",res)"
   ]
  },
  {
   "cell_type": "code",
   "execution_count": null,
   "id": "09410b2f-b399-416a-a334-3704c9777726",
   "metadata": {},
   "outputs": [],
   "source": []
  }
 ],
 "metadata": {
  "kernelspec": {
   "display_name": "Python 3 (ipykernel)",
   "language": "python",
   "name": "python3"
  },
  "language_info": {
   "codemirror_mode": {
    "name": "ipython",
    "version": 3
   },
   "file_extension": ".py",
   "mimetype": "text/x-python",
   "name": "python",
   "nbconvert_exporter": "python",
   "pygments_lexer": "ipython3",
   "version": "3.12.7"
  }
 },
 "nbformat": 4,
 "nbformat_minor": 5
}
