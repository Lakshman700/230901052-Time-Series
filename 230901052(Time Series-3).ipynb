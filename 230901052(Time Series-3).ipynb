{
 "cells": [
  {
   "cell_type": "code",
   "execution_count": 2,
   "id": "76dc1aaf-4a28-4454-b852-936e1a2e79dd",
   "metadata": {},
   "outputs": [
    {
     "name": "stdout",
     "output_type": "stream",
     "text": [
      "Date Index \n",
      " 2011-01-02   -0.150562\n",
      "2011-01-05    2.025170\n",
      "2011-01-07   -0.209302\n",
      "2011-01-08   -0.338141\n",
      "2011-01-10   -0.807670\n",
      "2011-01-12    0.511833\n",
      "dtype: float64\n"
     ]
    }
   ],
   "source": [
    "import pandas as pd\n",
    "import numpy as np\n",
    "from datetime import datetime\n",
    "dates = [datetime(2011, 1, 2),\n",
    "datetime(2011, 1, 5),\n",
    "datetime(2011, 1, 7),\n",
    "datetime(2011, 1, 8),\n",
    "datetime(2011, 1, 10),\n",
    "datetime(2011, 1, 12)]\n",
    "ts = pd.Series(np.random.randn(6), index=dates)\n",
    "print(\"Date Index \\n\",ts)"
   ]
  },
  {
   "cell_type": "code",
   "execution_count": 4,
   "id": "5ed9b509-00a2-4a18-acf4-d8fe2bb5f8d1",
   "metadata": {},
   "outputs": [
    {
     "name": "stdout",
     "output_type": "stream",
     "text": [
      "Date Index alone from the series:  DatetimeIndex(['2011-01-02', '2011-01-05', '2011-01-07', '2011-01-08',\n",
      "               '2011-01-10', '2011-01-12'],\n",
      "              dtype='datetime64[ns]', freq=None)\n"
     ]
    }
   ],
   "source": [
    "print(\"Date Index alone from the series: \",ts.index)"
   ]
  },
  {
   "cell_type": "code",
   "execution_count": 6,
   "id": "de89f990-094c-432f-a8ef-4c7f76e9d487",
   "metadata": {},
   "outputs": [
    {
     "name": "stdout",
     "output_type": "stream",
     "text": [
      "Second index: 2011-01-07 00:00:00\n"
     ]
    }
   ],
   "source": [
    " stamp=ts.index[2]\n",
    "print(\"Second index:\", stamp)"
   ]
  },
  {
   "cell_type": "code",
   "execution_count": 10,
   "id": "4a839ac9-5a77-4bb0-b6ee-b2802abde8c4",
   "metadata": {},
   "outputs": [
    {
     "name": "stdout",
     "output_type": "stream",
     "text": [
      "Daterange up to 1000 days: 2000-01-01    0.233869\n",
      "2000-01-02   -0.659315\n",
      "2000-01-03   -1.420033\n",
      "2000-01-04    1.011117\n",
      "2000-01-05   -1.889700\n",
      "                ...   \n",
      "2002-09-22   -0.792007\n",
      "2002-09-23    1.567010\n",
      "2002-09-24   -0.611721\n",
      "2002-09-25   -0.114487\n",
      "2002-09-26   -1.108059\n",
      "Freq: D, Length: 1000, dtype: float64\n"
     ]
    }
   ],
   "source": [
    "#play like a ball with long-times series\n",
    "longer_ts=pd.Series(np.random.randn(1000),\n",
    "index=pd.date_range(\"2000-01-01\",periods=1000))\n",
    "print(\"Daterange up to 1000 days:\",longer_ts)"
   ]
  },
  {
   "cell_type": "code",
   "execution_count": 12,
   "id": "275bf1b0-cb14-4b8d-b9ee-cffe888393fd",
   "metadata": {},
   "outputs": [
    {
     "name": "stdout",
     "output_type": "stream",
     "text": [
      "Date range-2001 year: 2001-01-01   -0.312882\n",
      "2001-01-02   -1.050101\n",
      "2001-01-03   -0.031458\n",
      "2001-01-04   -0.141455\n",
      "2001-01-05    0.606122\n",
      "                ...   \n",
      "2001-12-27    0.875903\n",
      "2001-12-28   -0.168297\n",
      "2001-12-29   -1.305129\n",
      "2001-12-30    0.624395\n",
      "2001-12-31   -1.359841\n",
      "Freq: D, Length: 365, dtype: float64\n"
     ]
    }
   ],
   "source": [
    "print(\"Date range-2001 year:\", longer_ts[\"2001\"])"
   ]
  },
  {
   "cell_type": "code",
   "execution_count": 14,
   "id": "6ac19788-1a09-4a2c-96de-f33b88a5ff9f",
   "metadata": {},
   "outputs": [
    {
     "name": "stdout",
     "output_type": "stream",
     "text": [
      "Date range-05 month 2001 year: 2001-05-01    0.365013\n",
      "2001-05-02    0.594972\n",
      "2001-05-03    1.616358\n",
      "2001-05-04    0.987553\n",
      "2001-05-05   -0.995665\n",
      "2001-05-06    0.367961\n",
      "2001-05-07    0.630220\n",
      "2001-05-08    1.300696\n",
      "2001-05-09   -0.276589\n",
      "2001-05-10   -0.086496\n",
      "2001-05-11    0.417077\n",
      "2001-05-12    0.135400\n",
      "2001-05-13   -0.408163\n",
      "2001-05-14    0.058904\n",
      "2001-05-15    0.724438\n",
      "2001-05-16   -0.176706\n",
      "2001-05-17   -0.175110\n",
      "2001-05-18   -1.351803\n",
      "2001-05-19    0.268214\n",
      "2001-05-20   -0.609779\n",
      "2001-05-21   -0.357078\n",
      "2001-05-22    0.020056\n",
      "2001-05-23    2.334440\n",
      "2001-05-24   -0.758456\n",
      "2001-05-25   -0.870815\n",
      "2001-05-26   -0.387491\n",
      "2001-05-27   -0.693770\n",
      "2001-05-28    0.308054\n",
      "2001-05-29   -0.484264\n",
      "2001-05-30   -0.966077\n",
      "2001-05-31    0.309015\n",
      "Freq: D, dtype: float64\n"
     ]
    }
   ],
   "source": [
    "print(\"Date range-05 month 2001 year:\", longer_ts[\"2001-05\"])"
   ]
  },
  {
   "cell_type": "code",
   "execution_count": 16,
   "id": "c9bcb476-de11-4aca-bbe5-73ad3f628f2e",
   "metadata": {},
   "outputs": [
    {
     "name": "stdout",
     "output_type": "stream",
     "text": [
      "Date range-first few dates in 2000 year: 2000-01-01    0.233869\n",
      "2000-01-02   -0.659315\n",
      "2000-01-03   -1.420033\n",
      "2000-01-04    1.011117\n",
      "2000-01-05   -1.889700\n",
      "Freq: D, dtype: float64\n"
     ]
    }
   ],
   "source": [
    "print(\"Date range-first few dates in 2000 year:\",longer_ts[\"2000\"].head())"
   ]
  },
  {
   "cell_type": "code",
   "execution_count": 18,
   "id": "1dabffd8-3c73-44c4-9dbc-ff20d3e8ea0b",
   "metadata": {},
   "outputs": [
    {
     "name": "stdout",
     "output_type": "stream",
     "text": [
      "Date range-first 15 dates in 02 month 2001 year: 2000-02-01   -1.099506\n",
      "2000-02-02   -2.405907\n",
      "2000-02-03    1.100101\n",
      "2000-02-04    1.102495\n",
      "2000-02-05   -1.418146\n",
      "2000-02-06   -1.404314\n",
      "2000-02-07    0.693027\n",
      "2000-02-08    1.176560\n",
      "2000-02-09    0.682133\n",
      "2000-02-10   -0.900450\n",
      "2000-02-11    0.817036\n",
      "2000-02-12   -1.173457\n",
      "2000-02-13   -0.279243\n",
      "2000-02-14    0.635959\n",
      "2000-02-15   -0.416920\n",
      "Freq: D, dtype: float64\n"
     ]
    }
   ],
   "source": [
    "print(\"Date range-first 15 dates in 02 month 2001 year:\",longer_ts[\"2000-02\"].head(15))"
   ]
  },
  {
   "cell_type": "code",
   "execution_count": 20,
   "id": "8caab9ca-3603-413c-97d4-08c7db6ce8bb",
   "metadata": {},
   "outputs": [
    {
     "name": "stdout",
     "output_type": "stream",
     "text": [
      "Date range-rom 26-9-2001: 2000-09-26    0.360583\n",
      "2000-09-27    0.459840\n",
      "2000-09-28    0.307540\n",
      "2000-09-29   -0.362359\n",
      "2000-09-30    0.317777\n",
      "                ...   \n",
      "2002-09-22   -0.792007\n",
      "2002-09-23    1.567010\n",
      "2002-09-24   -0.611721\n",
      "2002-09-25   -0.114487\n",
      "2002-09-26   -1.108059\n",
      "Freq: D, Length: 731, dtype: float64\n"
     ]
    }
   ],
   "source": [
    "print(\"Date range-rom 26-9-2001:\",longer_ts[datetime(2000,9,26):])"
   ]
  },
  {
   "cell_type": "code",
   "execution_count": null,
   "id": "92cfc518-16b6-4e74-aa02-6abc99e7d3bc",
   "metadata": {},
   "outputs": [],
   "source": []
  }
 ],
 "metadata": {
  "kernelspec": {
   "display_name": "Python 3 (ipykernel)",
   "language": "python",
   "name": "python3"
  },
  "language_info": {
   "codemirror_mode": {
    "name": "ipython",
    "version": 3
   },
   "file_extension": ".py",
   "mimetype": "text/x-python",
   "name": "python",
   "nbconvert_exporter": "python",
   "pygments_lexer": "ipython3",
   "version": "3.12.7"
  }
 },
 "nbformat": 4,
 "nbformat_minor": 5
}
